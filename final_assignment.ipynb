{
 "cells": [
  {
   "cell_type": "markdown",
   "id": "3a6f1af6",
   "metadata": {},
   "source": [
    "# Data Science Tools and Ecosystem"
   ]
  },
  {
   "cell_type": "markdown",
   "id": "c7f2297f",
   "metadata": {},
   "source": [
    "## Introduction\n",
    "\n",
    "In this notebook, we will summarize important tools, languages, and libraries used in the field of Data Science."
   ]
  },
  {
   "cell_type": "markdown",
   "id": "cb20ce2f",
   "metadata": {},
   "source": [
    "## Data Science Languages\n",
    "\n",
    "The most commonly used languages by Data Scientists include:\n",
    "1. Python\n",
    "2. R\n",
    "3. SQL\n",
    "4. Julia"
   ]
  },
  {
   "cell_type": "markdown",
   "id": "e79b75e7",
   "metadata": {},
   "source": [
    "## Data Science Libraries\n",
    "\n",
    "Some popular libraries used by Data Scientists include:\n",
    "1. Pandas\n",
    "2. NumPy\n",
    "3. Scikit-learn\n",
    "4. Matplotlib\n",
    "5. TensorFlow"
   ]
  },
  {
   "cell_type": "markdown",
   "id": "f112b445",
   "metadata": {},
   "source": [
    "## Data Science Tools\n",
    "\n",
    "| Tool Name     | Category             | Description                      |\n",
    "|---------------|----------------------|----------------------------------|\n",
    "| Jupyter       | Notebook Environment | Code + Text Integration          |\n",
    "| RStudio       | IDE                  | R Programming Development        |\n",
    "| Apache Spark  | Big Data Framework   | Distributed Processing Framework |"
   ]
  },
  {
   "cell_type": "markdown",
   "id": "3a4ada16",
   "metadata": {},
   "source": [
    "## Examples of Evaluating Arithmetic Expressions\n",
    "\n",
    "Below are some examples of how we can evaluate arithmetic expressions in Python."
   ]
  },
  {
   "cell_type": "code",
   "execution_count": null,
   "id": "b08595ef",
   "metadata": {},
   "outputs": [],
   "source": [
    "# This code multiplies and adds two numbers\n",
    "(3*4)+5"
   ]
  },
  {
   "cell_type": "code",
   "execution_count": null,
   "id": "578e1a0c",
   "metadata": {},
   "outputs": [],
   "source": [
    "# This will convert 200 minutes to hours\n",
    "200 / 60"
   ]
  },
  {
   "cell_type": "markdown",
   "id": "541e6298",
   "metadata": {},
   "source": [
    "## Objectives\n",
    "\n",
    "- List popular languages for Data Science\n",
    "- Identify commonly used libraries\n",
    "- Create tables using markdown\n",
    "- Perform basic arithmetic using Python"
   ]
  },
  {
   "cell_type": "markdown",
   "id": "e4eaa67e",
   "metadata": {},
   "source": [
    "## Author\n",
    "\n",
    "Satyam Adinath Kurhe"
   ]
  }
 ],
 "metadata": {},
 "nbformat": 4,
 "nbformat_minor": 5
}
